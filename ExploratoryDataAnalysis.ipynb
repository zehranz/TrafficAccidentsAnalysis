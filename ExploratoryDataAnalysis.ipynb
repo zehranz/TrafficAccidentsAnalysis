{
 "cells": [
  {
   "cell_type": "markdown",
   "metadata": {},
   "source": [
    "## Exploratory Data Analysis\n",
    "First, we analyze our data sets. The analysis phase in which we try to understand the properties of a dataset is called ```Exploratory Data Analysis (EDA). ```\n",
    "\n",
    "It is used to discover patterns in the data set without an observation or hypothesis, to reach and visualize information such as what the first observations are, whether there are missing values, outliers, and in which variables, if any."
   ]
  },
  {
   "cell_type": "code",
   "execution_count": 6,
   "metadata": {},
   "outputs": [],
   "source": [
    "import pandas as pd\n",
    "import matplotlib.pyplot as plt\n",
    "import seaborn as sns"
   ]
  },
  {
   "cell_type": "code",
   "execution_count": 10,
   "metadata": {},
   "outputs": [
    {
     "name": "stderr",
     "output_type": "stream",
     "text": [
      "C:\\Users\\zhrdg\\AppData\\Local\\Temp\\ipykernel_13980\\4246487248.py:2: DtypeWarning: Columns (31) have mixed types. Specify dtype option on import or set low_memory=False.\n",
      "  accidents_2005_2007df = pd.read_csv(accidents_2005_2007)\n"
     ]
    }
   ],
   "source": [
    "accidents_2005_2007 = 'CsvFiles/accidents_2005_to_2007.csv'\n",
    "accidents_2005_2007df = pd.read_csv(accidents_2005_2007)\n",
    "\n",
    "accidents_2009_2011 = 'CsvFiles/accidents_2009_to_2011.csv'\n",
    "accidents_2009_2011df = pd.read_csv(accidents_2009_2011)\n",
    "\n",
    "accidents_2012_2014 = 'CsvFiles/accidents_2009_to_2011.csv'\n",
    "accidents_2012_2014df = pd.read_csv(accidents_2012_2014)\n",
    "\n",
    "ukTrafficAADF = 'CsvFiles/ukTrafficAADF.csv'\n",
    "ukTrafficAADFdf = pd.read_csv(ukTrafficAADF)"
   ]
  },
  {
   "cell_type": "code",
   "execution_count": 5,
   "metadata": {},
   "outputs": [
    {
     "name": "stdout",
     "output_type": "stream",
     "text": [
      "  Accident_Index  Location_Easting_OSGR  Location_Northing_OSGR  Longitude  \\\n",
      "0  200501BS00001               525680.0                178240.0  -0.191170   \n",
      "1  200501BS00002               524170.0                181650.0  -0.211708   \n",
      "2  200501BS00003               524520.0                182240.0  -0.206458   \n",
      "3  200501BS00004               526900.0                177530.0  -0.173862   \n",
      "4  200501BS00005               528060.0                179040.0  -0.156618   \n",
      "\n",
      "    Latitude  Police_Force  Accident_Severity  Number_of_Vehicles  \\\n",
      "0  51.489096             1                  2                   1   \n",
      "1  51.520075             1                  3                   1   \n",
      "2  51.525301             1                  3                   2   \n",
      "3  51.482442             1                  3                   1   \n",
      "4  51.495752             1                  3                   1   \n",
      "\n",
      "   Number_of_Casualties        Date  ...  \\\n",
      "0                     1  04/01/2005  ...   \n",
      "1                     1  05/01/2005  ...   \n",
      "2                     1  06/01/2005  ...   \n",
      "3                     1  07/01/2005  ...   \n",
      "4                     1  10/01/2005  ...   \n",
      "\n",
      "       Pedestrian_Crossing-Physical_Facilities  \\\n",
      "0                               Zebra crossing   \n",
      "1  Pedestrian phase at traffic signal junction   \n",
      "2        No physical crossing within 50 meters   \n",
      "3        No physical crossing within 50 meters   \n",
      "4        No physical crossing within 50 meters   \n",
      "\n",
      "                          Light_Conditions          Weather_Conditions  \\\n",
      "0           Daylight: Street light present  Raining without high winds   \n",
      "1  Darkness: Street lights present and lit     Fine without high winds   \n",
      "2  Darkness: Street lights present and lit     Fine without high winds   \n",
      "3           Daylight: Street light present     Fine without high winds   \n",
      "4        Darkness: Street lighting unknown     Fine without high winds   \n",
      "\n",
      "  Road_Surface_Conditions  Special_Conditions_at_Site  Carriageway_Hazards  \\\n",
      "0                Wet/Damp                         NaN                  NaN   \n",
      "1                     Dry                         NaN                  NaN   \n",
      "2                     Dry                         NaN                  NaN   \n",
      "3                     Dry                         NaN                  NaN   \n",
      "4                Wet/Damp                         NaN                  NaN   \n",
      "\n",
      "  Urban_or_Rural_Area  Did_Police_Officer_Attend_Scene_of_Accident  \\\n",
      "0                   1                                          Yes   \n",
      "1                   1                                          Yes   \n",
      "2                   1                                          Yes   \n",
      "3                   1                                          Yes   \n",
      "4                   1                                          Yes   \n",
      "\n",
      "   LSOA_of_Accident_Location  Year  \n",
      "0                  E01002849  2005  \n",
      "1                  E01002909  2005  \n",
      "2                  E01002857  2005  \n",
      "3                  E01002840  2005  \n",
      "4                  E01002863  2005  \n",
      "\n",
      "[5 rows x 33 columns]\n"
     ]
    }
   ],
   "source": [
    "print(accidents_2005_2007df.head())"
   ]
  },
  {
   "cell_type": "code",
   "execution_count": 8,
   "metadata": {},
   "outputs": [
    {
     "name": "stdout",
     "output_type": "stream",
     "text": [
      "Accident_Index                                      0\n",
      "Location_Easting_OSGR                             101\n",
      "Location_Northing_OSGR                            101\n",
      "Longitude                                         101\n",
      "Latitude                                          101\n",
      "Police_Force                                        0\n",
      "Accident_Severity                                   0\n",
      "Number_of_Vehicles                                  0\n",
      "Number_of_Casualties                                0\n",
      "Date                                                0\n",
      "Day_of_Week                                         0\n",
      "Time                                               67\n",
      "Local_Authority_(District)                          0\n",
      "Local_Authority_(Highway)                           0\n",
      "1st_Road_Class                                      0\n",
      "1st_Road_Number                                     0\n",
      "Road_Type                                           0\n",
      "Speed_limit                                         0\n",
      "Junction_Detail                                570011\n",
      "Junction_Control                               236945\n",
      "2nd_Road_Class                                      0\n",
      "2nd_Road_Number                                     0\n",
      "Pedestrian_Crossing-Human_Control                  17\n",
      "Pedestrian_Crossing-Physical_Facilities            34\n",
      "Light_Conditions                                    0\n",
      "Weather_Conditions                                 20\n",
      "Road_Surface_Conditions                           662\n",
      "Special_Conditions_at_Site                     555336\n",
      "Carriageway_Hazards                            558881\n",
      "Urban_or_Rural_Area                                 0\n",
      "Did_Police_Officer_Attend_Scene_of_Accident      2375\n",
      "LSOA_of_Accident_Location                       47511\n",
      "Year                                                0\n",
      "dtype: int64\n"
     ]
    }
   ],
   "source": [
    "print(accidents_2005_2007df.isnull().sum())"
   ]
  },
  {
   "cell_type": "code",
   "execution_count": 9,
   "metadata": {},
   "outputs": [
    {
     "name": "stdout",
     "output_type": "stream",
     "text": [
      "['Accident_Index', 'Location_Easting_OSGR', 'Location_Northing_OSGR', 'Longitude', 'Latitude', 'Police_Force', 'Accident_Severity', 'Number_of_Vehicles', 'Number_of_Casualties', 'Date', 'Day_of_Week', 'Time', 'Local_Authority_(District)', 'Local_Authority_(Highway)', '1st_Road_Class', '1st_Road_Number', 'Road_Type', 'Speed_limit', 'Junction_Detail', 'Junction_Control', '2nd_Road_Class', '2nd_Road_Number', 'Pedestrian_Crossing-Human_Control', 'Pedestrian_Crossing-Physical_Facilities', 'Light_Conditions', 'Weather_Conditions', 'Road_Surface_Conditions', 'Special_Conditions_at_Site', 'Carriageway_Hazards', 'Urban_or_Rural_Area', 'Did_Police_Officer_Attend_Scene_of_Accident', 'LSOA_of_Accident_Location', 'Year']\n"
     ]
    }
   ],
   "source": [
    "print(accidents_2005_2007df.columns.tolist())"
   ]
  },
  {
   "cell_type": "code",
   "execution_count": 11,
   "metadata": {},
   "outputs": [
    {
     "name": "stdout",
     "output_type": "stream",
     "text": [
      "  Accident_Index  Location_Easting_OSGR  Location_Northing_OSGR  Longitude  \\\n",
      "0  200901BS70001                 524910                  180800  -0.201349   \n",
      "1  200901BS70002                 525050                  181040  -0.199248   \n",
      "2  200901BS70003                 526490                  177990  -0.179599   \n",
      "3  200901BS70004                 524800                  180300  -0.203110   \n",
      "4  200901BS70005                 526930                  177490  -0.173445   \n",
      "\n",
      "    Latitude  Police_Force  Accident_Severity  Number_of_Vehicles  \\\n",
      "0  51.512273             1                  2                   2   \n",
      "1  51.514399             1                  2                   2   \n",
      "2  51.486668             1                  3                   2   \n",
      "3  51.507804             1                  2                   2   \n",
      "4  51.482076             1                  2                   2   \n",
      "\n",
      "   Number_of_Casualties        Date  ...  \\\n",
      "0                     1  01/01/2009  ...   \n",
      "1                    11  05/01/2009  ...   \n",
      "2                     1  04/01/2009  ...   \n",
      "3                     1  05/01/2009  ...   \n",
      "4                     1  06/01/2009  ...   \n",
      "\n",
      "       Pedestrian_Crossing-Physical_Facilities  \\\n",
      "0        No physical crossing within 50 meters   \n",
      "1                               Zebra crossing   \n",
      "2        No physical crossing within 50 meters   \n",
      "3  Pedestrian phase at traffic signal junction   \n",
      "4        No physical crossing within 50 meters   \n",
      "\n",
      "                          Light_Conditions       Weather_Conditions  \\\n",
      "0           Daylight: Street light present  Fine without high winds   \n",
      "1           Daylight: Street light present  Fine without high winds   \n",
      "2           Daylight: Street light present  Fine without high winds   \n",
      "3           Daylight: Street light present                    Other   \n",
      "4  Darkness: Street lights present and lit  Fine without high winds   \n",
      "\n",
      "  Road_Surface_Conditions  Special_Conditions_at_Site  Carriageway_Hazards  \\\n",
      "0                     Dry                         NaN                  NaN   \n",
      "1                Wet/Damp                         NaN                  NaN   \n",
      "2                     Dry                         NaN                  NaN   \n",
      "3               Frost/Ice                         NaN                  NaN   \n",
      "4                     Dry                         NaN                  NaN   \n",
      "\n",
      "  Urban_or_Rural_Area  Did_Police_Officer_Attend_Scene_of_Accident  \\\n",
      "0                   1                                          Yes   \n",
      "1                   1                                          Yes   \n",
      "2                   1                                          Yes   \n",
      "3                   1                                          Yes   \n",
      "4                   1                                          Yes   \n",
      "\n",
      "   LSOA_of_Accident_Location  Year  \n",
      "0                  E01002882  2009  \n",
      "1                  E01002886  2009  \n",
      "2                  E01002912  2009  \n",
      "3                  E01002871  2009  \n",
      "4                  E01002840  2009  \n",
      "\n",
      "[5 rows x 33 columns]\n"
     ]
    }
   ],
   "source": [
    "print(accidents_2009_2011df.head())"
   ]
  },
  {
   "cell_type": "code",
   "execution_count": 12,
   "metadata": {},
   "outputs": [
    {
     "name": "stdout",
     "output_type": "stream",
     "text": [
      "Accident_Index                                      0\n",
      "Location_Easting_OSGR                               0\n",
      "Location_Northing_OSGR                              0\n",
      "Longitude                                           0\n",
      "Latitude                                            0\n",
      "Police_Force                                        0\n",
      "Accident_Severity                                   0\n",
      "Number_of_Vehicles                                  0\n",
      "Number_of_Casualties                                0\n",
      "Date                                                0\n",
      "Day_of_Week                                         0\n",
      "Time                                               37\n",
      "Local_Authority_(District)                          0\n",
      "Local_Authority_(Highway)                           0\n",
      "1st_Road_Class                                      0\n",
      "1st_Road_Number                                     0\n",
      "Road_Type                                           0\n",
      "Speed_limit                                         0\n",
      "Junction_Detail                                469442\n",
      "Junction_Control                               187280\n",
      "2nd_Road_Class                                      0\n",
      "2nd_Road_Number                                     0\n",
      "Pedestrian_Crossing-Human_Control                   0\n",
      "Pedestrian_Crossing-Physical_Facilities             0\n",
      "Light_Conditions                                    0\n",
      "Weather_Conditions                                106\n",
      "Road_Surface_Conditions                           541\n",
      "Special_Conditions_at_Site                     457845\n",
      "Carriageway_Hazards                            461169\n",
      "Urban_or_Rural_Area                                 0\n",
      "Did_Police_Officer_Attend_Scene_of_Accident       545\n",
      "LSOA_of_Accident_Location                       32009\n",
      "Year                                                0\n",
      "dtype: int64\n"
     ]
    }
   ],
   "source": [
    "print(accidents_2009_2011df.isnull().sum())"
   ]
  },
  {
   "cell_type": "code",
   "execution_count": 13,
   "metadata": {},
   "outputs": [
    {
     "name": "stdout",
     "output_type": "stream",
     "text": [
      "['Accident_Index', 'Location_Easting_OSGR', 'Location_Northing_OSGR', 'Longitude', 'Latitude', 'Police_Force', 'Accident_Severity', 'Number_of_Vehicles', 'Number_of_Casualties', 'Date', 'Day_of_Week', 'Time', 'Local_Authority_(District)', 'Local_Authority_(Highway)', '1st_Road_Class', '1st_Road_Number', 'Road_Type', 'Speed_limit', 'Junction_Detail', 'Junction_Control', '2nd_Road_Class', '2nd_Road_Number', 'Pedestrian_Crossing-Human_Control', 'Pedestrian_Crossing-Physical_Facilities', 'Light_Conditions', 'Weather_Conditions', 'Road_Surface_Conditions', 'Special_Conditions_at_Site', 'Carriageway_Hazards', 'Urban_or_Rural_Area', 'Did_Police_Officer_Attend_Scene_of_Accident', 'LSOA_of_Accident_Location', 'Year']\n"
     ]
    }
   ],
   "source": [
    "print(accidents_2009_2011df.columns.tolist())"
   ]
  },
  {
   "cell_type": "code",
   "execution_count": 15,
   "metadata": {},
   "outputs": [
    {
     "name": "stdout",
     "output_type": "stream",
     "text": [
      "  Accident_Index  Location_Easting_OSGR  Location_Northing_OSGR  Longitude  \\\n",
      "0  200901BS70001                 524910                  180800  -0.201349   \n",
      "1  200901BS70002                 525050                  181040  -0.199248   \n",
      "2  200901BS70003                 526490                  177990  -0.179599   \n",
      "3  200901BS70004                 524800                  180300  -0.203110   \n",
      "4  200901BS70005                 526930                  177490  -0.173445   \n",
      "\n",
      "    Latitude  Police_Force  Accident_Severity  Number_of_Vehicles  \\\n",
      "0  51.512273             1                  2                   2   \n",
      "1  51.514399             1                  2                   2   \n",
      "2  51.486668             1                  3                   2   \n",
      "3  51.507804             1                  2                   2   \n",
      "4  51.482076             1                  2                   2   \n",
      "\n",
      "   Number_of_Casualties        Date  ...  \\\n",
      "0                     1  01/01/2009  ...   \n",
      "1                    11  05/01/2009  ...   \n",
      "2                     1  04/01/2009  ...   \n",
      "3                     1  05/01/2009  ...   \n",
      "4                     1  06/01/2009  ...   \n",
      "\n",
      "       Pedestrian_Crossing-Physical_Facilities  \\\n",
      "0        No physical crossing within 50 meters   \n",
      "1                               Zebra crossing   \n",
      "2        No physical crossing within 50 meters   \n",
      "3  Pedestrian phase at traffic signal junction   \n",
      "4        No physical crossing within 50 meters   \n",
      "\n",
      "                          Light_Conditions       Weather_Conditions  \\\n",
      "0           Daylight: Street light present  Fine without high winds   \n",
      "1           Daylight: Street light present  Fine without high winds   \n",
      "2           Daylight: Street light present  Fine without high winds   \n",
      "3           Daylight: Street light present                    Other   \n",
      "4  Darkness: Street lights present and lit  Fine without high winds   \n",
      "\n",
      "  Road_Surface_Conditions  Special_Conditions_at_Site  Carriageway_Hazards  \\\n",
      "0                     Dry                         NaN                  NaN   \n",
      "1                Wet/Damp                         NaN                  NaN   \n",
      "2                     Dry                         NaN                  NaN   \n",
      "3               Frost/Ice                         NaN                  NaN   \n",
      "4                     Dry                         NaN                  NaN   \n",
      "\n",
      "  Urban_or_Rural_Area  Did_Police_Officer_Attend_Scene_of_Accident  \\\n",
      "0                   1                                          Yes   \n",
      "1                   1                                          Yes   \n",
      "2                   1                                          Yes   \n",
      "3                   1                                          Yes   \n",
      "4                   1                                          Yes   \n",
      "\n",
      "   LSOA_of_Accident_Location  Year  \n",
      "0                  E01002882  2009  \n",
      "1                  E01002886  2009  \n",
      "2                  E01002912  2009  \n",
      "3                  E01002871  2009  \n",
      "4                  E01002840  2009  \n",
      "\n",
      "[5 rows x 33 columns]\n"
     ]
    }
   ],
   "source": [
    "print(accidents_2012_2014df.head())"
   ]
  },
  {
   "cell_type": "code",
   "execution_count": 16,
   "metadata": {},
   "outputs": [
    {
     "name": "stdout",
     "output_type": "stream",
     "text": [
      "Accident_Index                                      0\n",
      "Location_Easting_OSGR                               0\n",
      "Location_Northing_OSGR                              0\n",
      "Longitude                                           0\n",
      "Latitude                                            0\n",
      "Police_Force                                        0\n",
      "Accident_Severity                                   0\n",
      "Number_of_Vehicles                                  0\n",
      "Number_of_Casualties                                0\n",
      "Date                                                0\n",
      "Day_of_Week                                         0\n",
      "Time                                               37\n",
      "Local_Authority_(District)                          0\n",
      "Local_Authority_(Highway)                           0\n",
      "1st_Road_Class                                      0\n",
      "1st_Road_Number                                     0\n",
      "Road_Type                                           0\n",
      "Speed_limit                                         0\n",
      "Junction_Detail                                469442\n",
      "Junction_Control                               187280\n",
      "2nd_Road_Class                                      0\n",
      "2nd_Road_Number                                     0\n",
      "Pedestrian_Crossing-Human_Control                   0\n",
      "Pedestrian_Crossing-Physical_Facilities             0\n",
      "Light_Conditions                                    0\n",
      "Weather_Conditions                                106\n",
      "Road_Surface_Conditions                           541\n",
      "Special_Conditions_at_Site                     457845\n",
      "Carriageway_Hazards                            461169\n",
      "Urban_or_Rural_Area                                 0\n",
      "Did_Police_Officer_Attend_Scene_of_Accident       545\n",
      "LSOA_of_Accident_Location                       32009\n",
      "Year                                                0\n",
      "dtype: int64\n"
     ]
    }
   ],
   "source": [
    "print(accidents_2012_2014df.isnull().sum())"
   ]
  },
  {
   "cell_type": "code",
   "execution_count": 17,
   "metadata": {},
   "outputs": [
    {
     "name": "stdout",
     "output_type": "stream",
     "text": [
      "['Accident_Index', 'Location_Easting_OSGR', 'Location_Northing_OSGR', 'Longitude', 'Latitude', 'Police_Force', 'Accident_Severity', 'Number_of_Vehicles', 'Number_of_Casualties', 'Date', 'Day_of_Week', 'Time', 'Local_Authority_(District)', 'Local_Authority_(Highway)', '1st_Road_Class', '1st_Road_Number', 'Road_Type', 'Speed_limit', 'Junction_Detail', 'Junction_Control', '2nd_Road_Class', '2nd_Road_Number', 'Pedestrian_Crossing-Human_Control', 'Pedestrian_Crossing-Physical_Facilities', 'Light_Conditions', 'Weather_Conditions', 'Road_Surface_Conditions', 'Special_Conditions_at_Site', 'Carriageway_Hazards', 'Urban_or_Rural_Area', 'Did_Police_Officer_Attend_Scene_of_Accident', 'LSOA_of_Accident_Location', 'Year']\n"
     ]
    }
   ],
   "source": [
    "print(accidents_2012_2014df.columns.tolist())"
   ]
  },
  {
   "cell_type": "code",
   "execution_count": 18,
   "metadata": {},
   "outputs": [
    {
     "name": "stdout",
     "output_type": "stream",
     "text": [
      "   AADFYear    CP Estimation_method Estimation_method_detailed  \\\n",
      "0      2000  6007           Counted               Manual count   \n",
      "1      2000  6009           Counted               Manual count   \n",
      "2      2000  6035           Counted               Manual count   \n",
      "3      2000  6054           Counted               Manual count   \n",
      "4      2000  6055           Counted               Manual count   \n",
      "\n",
      "                     Region LocalAuthority  Road RoadCategory  Easting  \\\n",
      "0  Yorkshire and the Humber      Rotherham    M1           TM   446000   \n",
      "1  Yorkshire and the Humber          Leeds  M621           TM   432150   \n",
      "2  Yorkshire and the Humber      Doncaster   M18           TM   466400   \n",
      "3  Yorkshire and the Humber     Calderdale   M62           TM   404000   \n",
      "4  Yorkshire and the Humber          Leeds   M62           TM   426000   \n",
      "\n",
      "   Northing  ... V2AxleRigidHGV V3AxleRigidHGV  V4or5AxleRigidHGV  \\\n",
      "0    389300  ...           5351            656                711   \n",
      "1    429500  ...           1293            272                287   \n",
      "2    407900  ...           1952            257                239   \n",
      "3    416600  ...           3121            508                354   \n",
      "4    426200  ...           4030            624                423   \n",
      "\n",
      "   V3or4AxleArticHGV  V5AxleArticHGV  V6orMoreAxleArticHGV  AllHGVs  \\\n",
      "0               1588            4715                  2149    15170   \n",
      "1                628            1494                   921     4895   \n",
      "2                745            3695                  2000     8888   \n",
      "3               1786            5902                  3438    15109   \n",
      "4               1947            6669                  3743    17436   \n",
      "\n",
      "   AllMotorVehicles        Lat       Lon  \n",
      "0            111146  53.398531 -1.309655  \n",
      "1             65939  53.760869 -1.513814  \n",
      "2             40229  53.563523 -0.998970  \n",
      "3             85759  53.645893 -1.940967  \n",
      "4             98487  53.731551 -1.607374  \n",
      "\n",
      "[5 rows x 29 columns]\n"
     ]
    }
   ],
   "source": [
    "print(ukTrafficAADFdf.head())"
   ]
  },
  {
   "cell_type": "code",
   "execution_count": 19,
   "metadata": {},
   "outputs": [
    {
     "name": "stdout",
     "output_type": "stream",
     "text": [
      "AADFYear                          0\n",
      "CP                                0\n",
      "Estimation_method             37573\n",
      "Estimation_method_detailed    37573\n",
      "Region                            0\n",
      "LocalAuthority                    0\n",
      "Road                              0\n",
      "RoadCategory                      0\n",
      "Easting                           0\n",
      "Northing                          0\n",
      "StartJunction                   256\n",
      "EndJunction                     238\n",
      "LinkLength_km                     0\n",
      "LinkLength_miles                  0\n",
      "PedalCycles                       0\n",
      "Motorcycles                       0\n",
      "CarsTaxis                         0\n",
      "BusesCoaches                      0\n",
      "LightGoodsVehicles                0\n",
      "V2AxleRigidHGV                    0\n",
      "V3AxleRigidHGV                    0\n",
      "V4or5AxleRigidHGV                 0\n",
      "V3or4AxleArticHGV                 0\n",
      "V5AxleArticHGV                    0\n",
      "V6orMoreAxleArticHGV              0\n",
      "AllHGVs                           0\n",
      "AllMotorVehicles                  0\n",
      "Lat                               0\n",
      "Lon                               0\n",
      "dtype: int64\n"
     ]
    }
   ],
   "source": [
    "print(ukTrafficAADFdf.isnull().sum())"
   ]
  },
  {
   "cell_type": "code",
   "execution_count": 20,
   "metadata": {},
   "outputs": [
    {
     "name": "stdout",
     "output_type": "stream",
     "text": [
      "['AADFYear', 'CP', 'Estimation_method', 'Estimation_method_detailed', 'Region', 'LocalAuthority', 'Road', 'RoadCategory', 'Easting', 'Northing', 'StartJunction', 'EndJunction', 'LinkLength_km', 'LinkLength_miles', 'PedalCycles', 'Motorcycles', 'CarsTaxis', 'BusesCoaches', 'LightGoodsVehicles', 'V2AxleRigidHGV', 'V3AxleRigidHGV', 'V4or5AxleRigidHGV', 'V3or4AxleArticHGV', 'V5AxleArticHGV', 'V6orMoreAxleArticHGV', 'AllHGVs', 'AllMotorVehicles', 'Lat', 'Lon']\n"
     ]
    }
   ],
   "source": [
    "print(ukTrafficAADFdf.columns.tolist())"
   ]
  },
  {
   "cell_type": "markdown",
   "metadata": {},
   "source": [
    "## Trafik Kazası Veri Seti Açıklamaları (TR)\n",
    "\n",
    "Bu veri setleri, Birleşik Krallık'ta 2005-2014 yılları arasında meydana gelen trafik kazalarına dair detayları içermektedir. Aşağıda sütunların açıklamaları yer almaktadır:\n",
    "\n",
    "- **Accident_Index**: Kaza için tanımlayıcı.\n",
    "- **Location_Easting_OSGR**, **Location_Northing_OSGR**: Kazanın koordinat bilgileri.\n",
    "- **Longitude**, **Latitude**: Coğrafi koordinatlar.\n",
    "- **Police_Force**: Kaza alanından sorumlu olan polis gücü.\n",
    "- **Accident_Severity**: Kazanın ciddiyeti.\n",
    "- **Number_of_Vehicles**: Kazaya karışan araç sayısı.\n",
    "- **Number_of_Casualties**: Kazada yaralanan veya ölen kişi sayısı.\n",
    "- **Date**, **Time**: Kazanın gerçekleştiği tarih ve saat.\n",
    "- **Day_of_Week**: Haftanın hangi günü kazanın gerçekleştiği.\n",
    "- **Local_Authority_(District)**, **Local_Authority_(Highway)**: Kazanın gerçekleştiği yerin yerel otoritesi.\n",
    "- **1st_Road_Class**, **1st_Road_Number**: Kazanın gerçekleştiği yolun türü ve numarası.\n",
    "- **Road_Type**: Yol tipi.\n",
    "- **Speed_limit**: Yolun hız sınırı.\n",
    "- **Junction_Detail**, **Junction_Control**: Kavşak detayları ve kontrol mekanizması.\n",
    "- **2nd_Road_Class**, **2nd_Road_Number**: Eğer varsa, ikinci yolla ilgili bilgiler.\n",
    "- **Pedestrian_Crossing-Human_Control**, **Pedestrian_Crossing-Physical_Facilities**: Yayalar için geçiş noktası olup olmadığı ve kontrol tipi.\n",
    "- **Light_Conditions**: Kazanın gerçekleştiği anki ışık koşulları.\n",
    "- **Weather_Conditions**: Kazanın olduğu anki hava durumu.\n",
    "- **Road_Surface_Conditions**: Yol yüzeyi durumu.\n",
    "- **Special_Conditions_at_Site**: Kaza yerinde özel bir durum olup olmadığı.\n",
    "- **Carriageway_Hazards**: Taşıma yolundaki potansiyel tehlikeler.\n",
    "- **Urban_or_Rural_Area**: Kaza alanının şehir içi mi, kırsal mı olduğunu belirten sütun.\n",
    "- **Did_Police_Officer_Attend_Scene_of_Accident**: Polis memuru kazaya müdahale etti mi?\n",
    "- **LSOA_of_Accident_Location**: Kaza konumunun \"Lower Layer Super Output Area\" kodu.\n",
    "- **Year**: Kazanın gerçekleştiği yıl.\n"
   ]
  },
  {
   "cell_type": "markdown",
   "metadata": {},
   "source": [
    "## Accident Dataset Descriptions (EN)\n",
    "\n",
    "This dataset contains details of traffic accidents that occurred in the United Kingdom between 2005 and 2014. Below are the explanations for each column:\n",
    "\n",
    "- **Accident_Index**: A unique identifier for the accident.\n",
    "- **Location_Easting_OSGR**, **Location_Northing_OSGR**: Coordinates of the accident.\n",
    "- **Longitude**, **Latitude**: Geographical coordinates.\n",
    "- **Police_Force**: The police force responsible for the accident area.\n",
    "- **Accident_Severity**: The severity of the accident.\n",
    "- **Number_of_Vehicles**: Number of vehicles involved in the accident.\n",
    "- **Number_of_Casualties**: Number of people injured or killed in the accident.\n",
    "- **Date**, **Time**: Date and time of the accident.\n",
    "- **Day_of_Week**: The day of the week when the accident occurred.\n",
    "- **Local_Authority_(District)**, **Local_Authority_(Highway)**: The local authority of the area where the accident occurred.\n",
    "- **1st_Road_Class**, **1st_Road_Number**: The class and number of the road where the accident took place.\n",
    "- **Road_Type**: Type of road.\n",
    "- **Speed_limit**: The speed limit of the road.\n",
    "- **Junction_Detail**, **Junction_Control**: Details about the junction and its control mechanism.\n",
    "- **2nd_Road_Class**, **2nd_Road_Number**: Information about a second road, if applicable.\n",
    "- **Pedestrian_Crossing-Human_Control**, **Pedestrian_Crossing-Physical_Facilities**: Whether there are pedestrian crossings and their control type.\n",
    "- **Light_Conditions**: Light conditions at the time of the accident.\n",
    "- **Weather_Conditions**: Weather conditions at the time of the accident.\n",
    "- **Road_Surface_Conditions**: Condition of the road surface.\n",
    "- **Special_Conditions_at_Site**: Any special conditions at the accident site.\n",
    "- **Carriageway_Hazards**: Potential hazards on the carriageway.\n",
    "- **Urban_or_Rural_Area**: Indicates whether the accident location is urban or rural.\n",
    "- **Did_Police_Officer_Attend_Scene_of_Accident**: Whether a police officer attended the scene of the accident.\n",
    "- **LSOA_of_Accident_Location**: The \"Lower Layer Super Output Area\" code of the accident location.\n",
    "- **Year**: The year the accident occurred.\n"
   ]
  },
  {
   "cell_type": "markdown",
   "metadata": {},
   "source": [
    "## Yıllık Ortalama Günlük Trafik Akışı Veri Seti Açıklamaları (TR)\n",
    "\n",
    "Bu veri seti, Birleşik Krallık'taki trafik yoğunluğu hakkında yıllık ortalama günlük trafik akışını (AADF - Annual Average Daily Flow) içermektedir. Aşağıda sütunların açıklamaları yer almaktadır:\n",
    "\n",
    "- **AADFYear**: Yıllık ortalama günlük trafik akışının hesaplandığı yıl.\n",
    "- **CP**: Trafik izleme noktasının kodu.\n",
    "- **Estimation_method**, **Estimation_method_detailed**: Trafik akışının tahmin edildiği yöntem.\n",
    "- **Region**: Bölge bilgisi.\n",
    "- **LocalAuthority**: Yerel otorite bilgisi.\n",
    "- **Road**, **RoadCategory**: Yol adı ve kategorisi.\n",
    "- **Easting**, **Northing**: Yolun Ordnance Survey koordinatları.\n",
    "- **StartJunction**, **EndJunction**: Yolun başlangıç ve bitiş noktalarındaki kavşaklar.\n",
    "- **LinkLength_km**, **LinkLength_miles**: Yol uzunluğu.\n",
    "- **PedalCycles**, **Motorcycles**, **CarsTaxis**, **BusesCoaches**, **LightGoodsVehicles**, **V2AxleRigidHGV**, **V3AxleRigidHGV**, **V4or5AxleRigidHGV**, **V3or4AxleArticHGV**, **V5AxleArticHGV**, **V6orMoreAxleArticHGV**, **AllHGVs**, **AllMotorVehicles**: Belirli araç tiplerine göre trafik yoğunluk bilgileri.\n",
    "- **Lat**, **Lon**: Trafik izleme noktasının coğrafi koordinatları.\n"
   ]
  },
  {
   "cell_type": "markdown",
   "metadata": {},
   "source": [
    "## Average Annual Daily Flow Dataset Descriptions (EN)\n",
    "\n",
    "This dataset contains the Annual Average Daily Flow (AADF) for traffic density in the United Kingdom. Below are the explanations for each column:\n",
    "\n",
    "- **AADFYear**: The year for which the Annual Average Daily Flow is calculated.\n",
    "- **CP**: The code for the traffic monitoring point.\n",
    "- **Estimation_method**, **Estimation_method_detailed**: The method used to estimate the traffic flow.\n",
    "- **Region**: Region information.\n",
    "- **LocalAuthority**: Local authority information.\n",
    "- **Road**, **RoadCategory**: The name and category of the road.\n",
    "- **Easting**, **Northing**: Ordnance Survey coordinates of the road.\n",
    "- **StartJunction**, **EndJunction**: Junctions at the start and end points of the road.\n",
    "- **LinkLength_km**, **LinkLength_miles**: The length of the road.\n",
    "- **PedalCycles**, **Motorcycles**, **CarsTaxis**, **BusesCoaches**, **LightGoodsVehicles**, **V2AxleRigidHGV**, **V3AxleRigidHGV**, **V4or5AxleRigidHGV**, **V3or4AxleArticHGV**, **V5AxleArticHGV**, **V6orMoreAxleArticHGV**, **AllHGVs**, **AllMotorVehicles**: Traffic flow information by specific vehicle types.\n",
    "- **Lat**, **Lon**: Geographical coordinates of the traffic monitoring point.\n"
   ]
  }
 ],
 "metadata": {
  "kernelspec": {
   "display_name": "Python 3",
   "language": "python",
   "name": "python3"
  },
  "language_info": {
   "codemirror_mode": {
    "name": "ipython",
    "version": 3
   },
   "file_extension": ".py",
   "mimetype": "text/x-python",
   "name": "python",
   "nbconvert_exporter": "python",
   "pygments_lexer": "ipython3",
   "version": "3.12.4"
  }
 },
 "nbformat": 4,
 "nbformat_minor": 2
}
